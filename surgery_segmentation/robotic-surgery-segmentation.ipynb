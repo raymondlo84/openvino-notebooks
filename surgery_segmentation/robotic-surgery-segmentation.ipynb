{
 "cells": [
  {
   "cell_type": "markdown",
   "metadata": {},
   "source": [
    "<a id=\"top\"></a>\n",
    "# MICCAI 2017 Robotic Instrument Segmentation\n"
   ]
  },
  {
   "cell_type": "markdown",
   "metadata": {},
   "source": [
    "## Prerequisites\n",
    "This sample requires the following:\n",
    "- All files are present and in the following directory structure:\n",
    "    \n",
    "    - **robotic-surgery-segmentation.ipynb** - This Jupyter* Notebook\n",
    "    - **figues/segmentation.gif,TernausNet.png** - Images that appear in this Jupyter* Notebook\n",
    "    - **python/\\*** - Python* code for all aspects of the robotic instrument segmentation application:<br>\n",
    "    -- **figures.py** - Generates visualization for steps of segmentation performed<br>\n",
    "    -- **models.py** - Contains different models as Python* code<br>\n",
    "    -- **pytorch_to_onnx.py** - Converts PyTorch* to ONNX* model<br>\n",
    "    -- **img_to_video.py** - Converts multiple images into a video file<br>\n",
    "    -- **pytorch_infer.py** - Runs inference using PyTorch\\*<br>\n",
    "    -- **segmentation_parts.py** - Robotic instrument segmentation application code<br>\n",
    "    -- **utils.py** - Utility functions<br>\n",
    "    -- **run_py.sh** - Utility shell script to run Python* files from jobs<br>\n",
    "    -- **quantize.py** - Converts OpenVINO FP32 to INT8 model<br>\n",
    "    - **data/short_source.mp4** - Test video\n",
    "    - **data/frame.png,left_framge.png,right_frame.png** - Used for visualization \n",
    "    - **/data/robotic-instrument-segmentation/unet11_\\*_20/model_0.pt** - Trained U-Net model data for different approaches (binary, parts, instruments - \"parts\" will be used)\n",
    "    \n",
    "\n",
    "It is recommended that you have already read the following from [Get Started on the Intel® DevCloud for the Edge](https://devcloud.intel.com/edge/home/):\n",
    "- [Overview of the Intel® DevCloud for the Edge](https://devcloud.intel.com/edge/get_started/devcloud/)\n",
    "- [Overview of the Intel® Distribution of OpenVINO™ toolkit](https://devcloud.intel.com/edge/get_started/openvino/)\n",
    "\n",
    "<br><div class=note><i><b>Note: </b>It is assumed that the server this sample is being run on is on the Intel® DevCloud for the Edge which has Jupyter* Notebook customizations and all the required libraries already installed.  If you download or copy to a new server, this sample may not run.</i></div>\n"
   ]
  },
  {
   "cell_type": "markdown",
   "metadata": {},
   "source": [
    "## Introduction\n",
    "\n",
    "This sample application demonstrates how a smart video IoT solution may be created using Intel® hardware and software tools to perform robotic instrument segmentation.  This solution performs semantic segmentation to identify the segments of robotic instruments within a video frame.  The identified robotic instruments segments are then highlighted in the output with each segment appearing in a different color.\n",
    "\n",
    "### Key concepts\n",
    "This sample application includes an example for the following:\n",
    "- Application:\n",
    "  - Video and image input is supported using OpenCV\n",
    "  - OpenCV is used to draw bounding boxes around detected objects, labels, and other information\n",
    "  - Visualization of the resulting segmentation in the output\n",
    "- Intel® DevCloud for the Edge:\n",
    "  - Submitting inference as jobs that are performed on different edge compute nodes (rather than on the development node hosting this Jupyter* notebook)\n",
    "  - Monitoring job status\n",
    "  - Viewing results and assessing performance for hardware on different compute nodes\n",
    "- [Intel® Distribution of OpenVINO™ toolkit](https://software.intel.com/openvino-toolkit):\n",
    "  - Create the necessary Intermediate Representation (IR) files for the inference model using [Model Optimizer](http://docs.openvinotoolkit.org/latest/_docs_MO_DG_Deep_Learning_Model_Optimizer_DevGuide.html)\n",
    "  - Run an inference application on multiple hardware devices using the [Inference Engine](http://docs.openvinotoolkit.org/latest/_docs_IE_DG_Deep_Learning_Inference_Engine_DevGuide.html)\n"
   ]
  },
  {
   "cell_type": "markdown",
   "metadata": {},
   "source": [
    "### Application background\n",
    "![Robotic Instrument Challenge](./figures/segmentation.gif)\n",
    "\n",
    "The code in this sample refers to the winning solution by Alexey Shvets, Alexander Rakhlin, Alexandr A. Kalinin, and Vladimir Iglovikov in the [MICCAI 2017 Robotic Instrument Segmentation Challenge](https://endovissub2017-roboticinstrumentsegmentation.grand-challenge.org/). This Jupyter* Notebook has been modified from the original found on [GitHub](https://github.com/ternaus/robot-surgery-segmentation/blob/master/Demo.ipynb) which is made available with an [MIT license](https://github.com/ternaus/robot-surgery-segmentation/blob/master/LICENSE). The data files necessary to run this notebook are included in `/data/robotic-surgery-segmentation`."
   ]
  },
  {
   "cell_type": "markdown",
   "metadata": {},
   "source": [
    "## Robotic instrument segmentation application\n",
    "The robotic instrument segmentation application uses the Intel® Distribution of OpenVINO™ toolkit to perform inference on an input video to locate robotic instruments within each frame.  We will setup, run, and view the results for this application for several different hardware devices (CPU. GPU, etc.) available on the compute nodes within the Intel® DevCloud for the Edge.  To accomplish this, we will be performing the following tasks:\n",
    "\n",
    "1. Use the [Model Optimizer](http://docs.openvinotoolkit.org/latest/_docs_MO_DG_Deep_Learning_Model_Optimizer_DevGuide.html) to create the inference model IR files needed to perform inference\n",
    "2. Create the job file used to submit running inference on compute nodes\n",
    "3. Submit jobs for different compute nodes and monitor the job status until complete\n",
    "4. View results and assess performance \n",
    "\n",
    "### How it works\n",
    "At startup the robotic instrument segmentation application configures itself by parsing the command line arguments.  Once configured, the application loads the specified inference model's IR files into the [Inference Engine](http://docs.openvinotoolkit.org/latest/_docs_IE_DG_Deep_Learning_Inference_Engine_DevGuide.html) and runs inference on the specified input video to identify segments of robotic instruments.  Once identified, each robotic instrument segment is colored to highlight it on the output video.\n",
    "\n",
    "To run the application on the Intel® DevCloud for the Edge, a job is submitted to an edge compute node with a hardware accelerator such as Intel® HD Graphics GPU and Intel® Movidius™ Neural Compute Stick 2.  After inference on the input is completed, the output is stored in the appropriate `results/<architecture>/` directory.  The results are then viewed within this Jupyter* Notebook using the `videoHTML` video playback utility.\n",
    "\n",
    "The application and inference code for this sample is already implemented in the Python* file [`segmentation_parts.py`](./python/segmentation_parts.py) (and other helper `python/*.py` files).\n",
    "\n",
    "The following sections will guide you through configuring and running the robotic instrument segmentation application."
   ]
  },
  {
   "cell_type": "markdown",
   "metadata": {},
   "source": [
    "## Install the required packages"
   ]
  },
  {
   "cell_type": "code",
   "execution_count": 41,
   "metadata": {},
   "outputs": [],
   "source": [
    "# ! $sys.executable -m pip install opencv-python-headless matplotlib onnx Pillow scipy tqdm pyyaml networkx pandas chainer addict hyperopt pymongo test-generator==0.1.1 progress\n",
    "# ! pip install torch==1.7.1+cpu torchvision==0.8.2+cpu torchaudio==0.7.2 -f https://download.pytorch.org/whl/torch_stable.html"
   ]
  },
  {
   "cell_type": "code",
   "execution_count": 1,
   "metadata": {},
   "outputs": [
    {
     "name": "stdout",
     "output_type": "stream",
     "text": [
      "Collecting test-generator==0.1.1\n",
      "  Using cached test_generator-0.1.1-py2.py3-none-any.whl (5.5 kB)\n",
      "Requirement already satisfied: six in c:\\users\\havanden\\no_openvino_env\\lib\\site-packages (from test-generator==0.1.1) (1.15.0)\n",
      "Installing collected packages: test-generator\n",
      "Successfully installed test-generator-0.1.1\n"
     ]
    }
   ],
   "source": [
    "!pip install test-generator==0.1.1"
   ]
  },
  {
   "cell_type": "markdown",
   "metadata": {},
   "source": [
    "## Imports\n",
    "We begin by importing all the Python* modules that will be used within this Jupyter* Notebook to run and display the results of the robotic instrument segmentation application on the Intel® DevCloud for the Edge:\n",
    "- [cv2](https://opencv.org/) - Python* OpenCV module\n",
    "- [os](https://docs.python.org/3/library/os.html#module-os) - Operating system specific module (used for file name parsing)\n",
    "- [time](https://docs.python.org/3/library/time.html#module-time) - Time tracking module (used for measuring execution time)\n",
    "- [matplotlib.pyplot](https://matplotlib.org/) - pyplot is used for displaying output images\n",
    "- [sys](https://docs.python.org/3/library/sys.html#module-sys) - System specific parameters and functions\n",
    "- [python.utils](./python/utils.py) - Provides utilities for displaying results within this Jupyter* Notebook\n",
    "\n",
    "Run the following cell to import the Python* dependencies needed.\n",
    "\n",
    "<br><div class=tip><b>Tip: </b>Select a cell and then use **Ctrl+Enter** to run that cell. **Shift+Enter** runs the cell and moves to the next cell.</div>"
   ]
  },
  {
   "cell_type": "code",
   "execution_count": 2,
   "metadata": {},
   "outputs": [
    {
     "name": "stderr",
     "output_type": "stream",
     "text": [
      "14:49:15 accuracy_checker WARNING: c:\\Program Files (x86)\\intel\\openvino_2021\\deployment_tools\\tools\\post_training_optimization_toolkit\\libs\\open_model_zoo\\tools\\accuracy_checker\\accuracy_checker\\launcher\\input_feeder.py:58: DeprecationWarning: `np.str` is a deprecated alias for the builtin `str`. To silence this warning, use `str` by itself. Doing this will not modify any behavior and is safe. If you specifically wanted the numpy scalar type, use `np.str_` here.\n",
      "Deprecated in NumPy 1.20; for more details and guidance: https://numpy.org/devdocs/release/1.20.0-notes.html#deprecations\n",
      "  'STR': np.str,  # string\n",
      "\n",
      "14:49:16 accuracy_checker WARNING: c:\\Program Files (x86)\\intel\\openvino_2021\\python\\python3.7\\ngraph\\utils\\types.py:37: DeprecationWarning: `np.bool` is a deprecated alias for the builtin `bool`. To silence this warning, use `bool` by itself. Doing this will not modify any behavior and is safe. If you specifically wanted the numpy scalar type, use `np.bool_` here.\n",
      "Deprecated in NumPy 1.20; for more details and guidance: https://numpy.org/devdocs/release/1.20.0-notes.html#deprecations\n",
      "  (NgraphType.boolean, np.bool),\n",
      "\n",
      "14:49:16 accuracy_checker WARNING: c:\\Program Files (x86)\\intel\\openvino_2021\\deployment_tools\\model_optimizer\\mo\\middle\\passes\\convert_data_type.py:45: DeprecationWarning: `np.bool` is a deprecated alias for the builtin `bool`. To silence this warning, use `bool` by itself. Doing this will not modify any behavior and is safe. If you specifically wanted the numpy scalar type, use `np.bool_` here.\n",
      "Deprecated in NumPy 1.20; for more details and guidance: https://numpy.org/devdocs/release/1.20.0-notes.html#deprecations\n",
      "  'bool': (np.bool, 'BOOL', 'boolean'),\n",
      "\n",
      "14:49:17 accuracy_checker WARNING: c:\\Program Files (x86)\\intel\\openvino_2021\\deployment_tools\\model_optimizer\\extensions\\back\\ReverseInputChannels.py:132: DeprecationWarning: invalid escape sequence \\ \n",
      "  \"\"\"\n",
      "\n",
      "14:49:17 accuracy_checker WARNING: c:\\Program Files (x86)\\intel\\openvino_2021\\deployment_tools\\model_optimizer\\extensions\\back\\ReverseInputChannels.py:192: DeprecationWarning: invalid escape sequence \\ \n",
      "  \"\"\"\n",
      "\n",
      "14:49:17 accuracy_checker WARNING: c:\\Program Files (x86)\\intel\\openvino_2021\\deployment_tools\\model_optimizer\\extensions\\back\\ReverseInputChannels.py:295: DeprecationWarning: invalid escape sequence \\ \n",
      "  \"\"\"\n",
      "\n",
      "14:49:17 accuracy_checker WARNING: c:\\Program Files (x86)\\intel\\openvino_2021\\deployment_tools\\model_optimizer\\mo\\front\\tf\\graph_utils.py:169: DeprecationWarning: invalid escape sequence \\*\n",
      "  \"\"\"\n",
      "\n",
      "14:49:17 accuracy_checker WARNING: c:\\Program Files (x86)\\intel\\openvino_2021\\deployment_tools\\model_optimizer\\extensions\\back\\compress_quantized_weights.py:88: DeprecationWarning: invalid escape sequence \\ \n",
      "  \"\"\"\n",
      "\n",
      "14:49:18 accuracy_checker WARNING: c:\\Program Files (x86)\\intel\\openvino_2021\\deployment_tools\\tools\\post_training_optimization_toolkit\\compression\\algorithms\\quantization\\optimization\\algorithm.py:42: UserWarning: Nevergrad package could not be imported. If you are planning to useany hyperparameter optimization algo, consider installing itusing pip. This implies advanced usage of the tool.Note that nevergrad is compatible only with Python 3.6+\n",
      "  'Nevergrad package could not be imported. If you are planning to use'\n",
      "\n"
     ]
    },
    {
     "name": "stdout",
     "output_type": "stream",
     "text": [
      "Imported Python modules successfully.\n"
     ]
    }
   ],
   "source": [
    "import cv2\n",
    "import matplotlib.pyplot as plt\n",
    "import os\n",
    "import time\n",
    "import sys\n",
    "import torch\n",
    "from python.utils import create_script, mask_overlay\n",
    "from openvino.inference_engine import IECore\n",
    "import numpy as np\n",
    "from io import BytesIO\n",
    "import PIL\n",
    "import IPython.display\n",
    "from python.quantize import DatasetsDataLoader, video_to_frames\n",
    "\n",
    "from python.models import UNet11\n",
    "print('Imported Python modules successfully.')"
   ]
  },
  {
   "cell_type": "markdown",
   "metadata": {},
   "source": [
    "## Converting PyTorch* to ONNX*\n",
    "\n",
    "The ONNX* models need to be generated from the original PyTorch* models to be used with the Intel® Distribution of OpenVINO™ toolkit.  This is done by running [pytorch_to_onnx.py](python/pytorch_to_onnx.py). \n"
   ]
  },
  {
   "cell_type": "raw",
   "metadata": {},
   "source": [
    "model_path = \"/data/robotic-instrument-segmentation/unet11_binary_20/model_0.pt\"\n",
    "model = get_model(model_path, model_type='UNet11', problem_type='binary')\n",
    "create_onnx_model(model, \"models/onnx/surgical_tools.onnx\")\n",
    "\n",
    "model_path = \"/data/robotic-instrument-segmentation/unet11_parts_20/model_0.pt\"\n",
    "model = get_model(model_path, model_type='UNet11', problem_type='parts')\n",
    "create_onnx_model(model, \"models/onnx/surgical_tools_parts.onnx\")\n",
    "\n",
    "if problem_type == 'binary':\n",
    "    num_classes = 1\n",
    "elif problem_type == 'parts':\n",
    "    num_classes = 4\n",
    "elif problem_type == 'instruments':\n",
    "    num_classes = 8"
   ]
  },
  {
   "cell_type": "code",
   "execution_count": 3,
   "metadata": {},
   "outputs": [
    {
     "name": "stderr",
     "output_type": "stream",
     "text": [
      "14:49:19 accuracy_checker WARNING: c:\\users\\havanden\\no_openvino_env\\lib\\site-packages\\ipykernel\\ipkernel.py:283: DeprecationWarning: `should_run_async` will not call `transform_cell` automatically in the future. Please pass the result to `transformed_cell` argument and any exception that happen during thetransform in `preprocessing_exc_tuple` in IPython 7.17 and above.\n",
      "  and should_run_async(code)\n",
      "\n"
     ]
    }
   ],
   "source": [
    "model_dir = os.path.join(os.path.abspath(os.curdir), 'models')\n",
    "source_model_path_binary = os.path.join(model_dir, 'torch', 'unet11_binary_20', 'model_0.pt')\n",
    "onnx_path_binary = os.path.join(model_dir, 'onnx', 'surgical_tools.onnx')\n",
    "\n",
    "source_model_path_parts = source_model_path_binary.replace('binary','parts')\n",
    "onnx_path_parts = onnx_path_binary.replace('tools', 'tools_parts')\n",
    "\n",
    "os.makedirs(os.path.dirname(onnx_path_binary), exist_ok=True)\n",
    "\n",
    "os.makedirs(os.path.dirname(onnx_path_parts), exist_ok=True)"
   ]
  },
  {
   "cell_type": "code",
   "execution_count": 20,
   "metadata": {},
   "outputs": [],
   "source": [
    "source_model_binary = UNet11()\n",
    "checkpoint_binary = torch.load(source_model_path_binary, map_location=torch.device('cpu'))\n",
    "checkpoint_binary = {key.replace('module.', ''): value for key, value in checkpoint_binary['model'].items()}\n",
    "source_model_binary.load_state_dict(checkpoint_binary)\n",
    "source_model_binary.eval();"
   ]
  },
  {
   "cell_type": "code",
   "execution_count": 21,
   "metadata": {},
   "outputs": [],
   "source": [
    "source_model_parts = UNet11(num_classes=4)\n",
    "checkpoint_parts = torch.load(source_model_path_parts, map_location=torch.device('cpu'))\n",
    "checkpoint_parts = {key.replace('module.', ''): value for key, value in checkpoint_parts['model'].items()}\n",
    "source_model_parts.load_state_dict(checkpoint_parts)\n",
    "source_model_parts.eval();"
   ]
  },
  {
   "cell_type": "code",
   "execution_count": 22,
   "metadata": {},
   "outputs": [],
   "source": [
    "dummy_input = torch.randn(1, 3, 1024, 1280)\n",
    "torch.onnx.export(source_model_binary, dummy_input, onnx_path_binary, opset_version=11)\n",
    "torch.onnx.export(source_model_parts, dummy_input, onnx_path_parts, opset_version=11)"
   ]
  },
  {
   "cell_type": "markdown",
   "metadata": {},
   "source": [
    "<br><div class=danger><b>Wait!: </b>\n",
    "Please wait for the progress bar and job to complete before proceeding to the next cell.\n",
    "</div>"
   ]
  },
  {
   "cell_type": "markdown",
   "metadata": {},
   "source": [
    "The two ONNX* models that have now be generated are:\n",
    "- **models/onnx/surgical_tools_parts.onnx** - Segmentation model used for identifying robotic instrument segments (\"parts\")\n",
    " - This model will be used to process video and measure performance in later steps \n",
    "- **models/onnx/surgical_tools.onnx** - Segmentation model used for identifying robotic instrument (\"binary\")\n",
    " - This model, along with the `surgical_tools_parts.onnx`, will be used in an extra inference run to show some visualization of the segmentation involved."
   ]
  },
  {
   "cell_type": "markdown",
   "metadata": {},
   "source": [
    "#### Configure input\n",
    "For convenience and consistency, in the next cell we set the Python* variable `InputVideo` to the input video file we will be using to run our sample application.\n",
    "\n",
    "<br><div class=note><i><b>Note: </b>\n",
    "If you want to use a different input video, change the path in the following cell to the path of the video and run the cell again.\n",
    "</i></div>"
   ]
  },
  {
   "cell_type": "code",
   "execution_count": 11,
   "metadata": {},
   "outputs": [
    {
     "name": "stdout",
     "output_type": "stream",
     "text": [
      "Input video file set to:data/short_source.mp4\n"
     ]
    }
   ],
   "source": [
    "# Set the path to the input video to use for the rest of this sample\n",
    "InputVideo = \"data/short_source.mp4\"\n",
    "print(f\"Input video file set to:{InputVideo}\")"
   ]
  },
  {
   "cell_type": "code",
   "execution_count": 12,
   "metadata": {},
   "outputs": [],
   "source": [
    "cap = cv2.VideoCapture(InputVideo)"
   ]
  },
  {
   "cell_type": "code",
   "execution_count": 13,
   "metadata": {},
   "outputs": [],
   "source": [
    "ret, frame = cap.read()"
   ]
  },
  {
   "cell_type": "code",
   "execution_count": 14,
   "metadata": {},
   "outputs": [
    {
     "data": {
      "text/plain": [
       "<matplotlib.image.AxesImage at 0x16718b235c8>"
      ]
     },
     "execution_count": 14,
     "metadata": {},
     "output_type": "execute_result"
    },
    {
     "data": {
      "image/png": "[encoded data removed]",
      "text/plain": [
       "<Figure size 432x288 with 1 Axes>"
      ]
     },
     "metadata": {
      "needs_background": "light"
     },
     "output_type": "display_data"
    }
   ],
   "source": [
    "plt.imshow(frame[:,:,(2,1,0)])"
   ]
  },
  {
   "cell_type": "code",
   "execution_count": 19,
   "metadata": {},
   "outputs": [
    {
     "data": {
      "text/plain": [
       "('c:\\\\Program Files (x86)\\\\intel\\\\openvino_2021\\\\deployment_tools\\\\model_optimizer\\\\mo_onnx.py',\n",
       " '\"c:\\\\Program Files (x86)\\\\intel\\\\openvino_2021\\\\deployment_tools\\\\model_optimizer\\\\mo_onnx.py\"')"
      ]
     },
     "execution_count": 19,
     "metadata": {},
     "output_type": "execute_result"
    }
   ],
   "source": [
    "import mo_onnx\n",
    "mo_path = mo_onnx.__file__\n",
    "mo_path_str = rf'\"{mo_path}\"'\n",
    "mo_path, mo_path_str"
   ]
  },
  {
   "cell_type": "code",
   "execution_count": 5,
   "metadata": {},
   "outputs": [],
   "source": [
    "openvino_model_dir = os.path.abspath(os.path.join('models','ov'))\n",
    "os.makedirs(openvino_model_dir, exist_ok=True)"
   ]
  },
  {
   "cell_type": "code",
   "execution_count": 6,
   "metadata": {},
   "outputs": [
    {
     "name": "stdout",
     "output_type": "stream",
     "text": [
      "Model Optimizer arguments:\n",
      "Common parameters:\n",
      "\t- Path to the Input Model: \tC:\\Users\\havanden\\code\\openvino-notebooks\\surgery_segmentation\\models\\onnx\\surgical_tools_parts.onnx\n",
      "\t- Path for generated IR: \tC:\\Users\\havanden\\code\\openvino-notebooks\\surgery_segmentation\\models\\ov\n",
      "\t- IR output name: \tsurgical_tools_parts\n",
      "\t- Log level: \tERROR\n",
      "\t- Batch: \tNot specified, inherited from the model\n",
      "\t- Input layers: \tNot specified, inherited from the model\n",
      "\t- Output layers: \tNot specified, inherited from the model\n",
      "\t- Input shapes: \tNot specified, inherited from the model\n",
      "\t- Mean values: \tNot specified\n",
      "\t- Scale values: \tNot specified\n",
      "\t- Scale factor: \tNot specified\n",
      "\t- Precision of IR: \tFP32\n",
      "\t- Enable fusing: \tTrue\n",
      "\t- Enable grouped convolutions fusing: \tTrue\n",
      "\t- Move mean values to preprocess section: \tNone\n",
      "\t- Reverse input channels: \tFalse\n",
      "ONNX specific parameters:\n",
      "Model Optimizer version: \t2021.2.0-1877-176bdf51370-releases/2021/2\n",
      "\n",
      "[ SUCCESS ] Generated IR version 10 model.\n",
      "[ SUCCESS ] XML file: C:\\Users\\havanden\\code\\openvino-notebooks\\surgery_segmentation\\models\\ov\\surgical_tools_parts.xml\n",
      "[ SUCCESS ] BIN file: C:\\Users\\havanden\\code\\openvino-notebooks\\surgery_segmentation\\models\\ov\\surgical_tools_parts.bin\n",
      "[ SUCCESS ] Total execution time: 7.77 seconds. \n"
     ]
    }
   ],
   "source": [
    "! $sys.executable  $mo_path_str --input_model $onnx_path_parts --output_dir $openvino_model_dir"
   ]
  },
  {
   "cell_type": "markdown",
   "metadata": {},
   "source": [
    "## Inference on one frame"
   ]
  },
  {
   "cell_type": "code",
   "execution_count": 7,
   "metadata": {},
   "outputs": [],
   "source": [
    "# Load network to the plugin\n",
    "ie = IECore()\n",
    "net_onnx = ie.read_network(model=onnx_path_parts)\n",
    "exec_net_onnx = ie.load_network(network=net_onnx, device_name=\"CPU\")\n",
    "del net_onnx\n",
    "\n",
    "input_layer_onnx = next(iter(exec_net_onnx.input_info))\n",
    "output_layer_onnx = next(iter(exec_net_onnx.outputs))\n",
    "\n",
    "# Run the Inference on the Input image...\n",
    "# res_onnx = exec_net_onnx.infer(inputs={input_layer_onnx: input_image})\n",
    "# res_onnx = res_onnx[output_layer_onnx]"
   ]
  },
  {
   "cell_type": "markdown",
   "metadata": {},
   "source": [
    "\n",
    "### View results\n",
    "\n",
    "Once the jobs have completed, the queue system outputs the stdout and stderr streams of each job into files with names of the forms <*JobName*>.o<*JobID*> and <*JobName*>.e<*JobID*>, respecitvely.  The *JobName* corresponds to the `-N` option when submitting the job using the `qsub` command.  \n",
    "\n",
    "The output video file for each job is written to the file `output.mp4` located in the directory `results/<device>` that was specified as the output directory to the job file.  We will now use the `videoHTML()` utility to display the output video files within this Jupyter* notebook.  Calling `videoHTML()` from a Python* cell follows the form:\n",
    "```python\n",
    "videoHTML(title, [list_of_video_files], statistics(optional))\n",
    "```\n",
    "The parameters are:\n",
    "- *title* - Title to put at the top of the displayed output\n",
    "- \\[*list_of_video_files*\\] - Python* list of video files to display\n",
    "- *statistics(optional)* - Optional statistics file containing the number of seconds it took to process a number of frames\n",
    "\n",
    "Run the cells below to display the videos.\n",
    "\n"
   ]
  },
  {
   "cell_type": "code",
   "execution_count": 8,
   "metadata": {},
   "outputs": [],
   "source": [
    "def crop(image, size=(1024,1280)):\n",
    "    \"\"\"\n",
    "    Helper function to crop the image\n",
    "    \"\"\"\n",
    "    cropHeight, cropWidth = size\n",
    "    imgHeight, imgWidth = image.shape[0], image.shape[1] \n",
    "    startH = (imgHeight - cropHeight) // 2\n",
    "    startW = (imgWidth - cropWidth) // 2\n",
    "    return image[startH:(startH+cropHeight),startW:(startW+cropWidth),:]"
   ]
  },
  {
   "cell_type": "code",
   "execution_count": 9,
   "metadata": {},
   "outputs": [],
   "source": [
    "def showarray(a, prev_display_id=None, fmt=\"jpeg\"):\n",
    "    f = BytesIO()\n",
    "    PIL.Image.fromarray(a).save(f, fmt)\n",
    "    obj = IPython.display.Image(data=f.getvalue())\n",
    "    if prev_display_id is not None:\n",
    "        IPython.display.update_display(obj, display_id=prev_display_id)\n",
    "        return prev_display_id\n",
    "    else:\n",
    "        return IPython.display.display(obj, display_id=True).display_id"
   ]
  },
  {
   "cell_type": "code",
   "execution_count": 10,
   "metadata": {},
   "outputs": [
    {
     "ename": "NameError",
     "evalue": "name 'InputVideo' is not defined",
     "output_type": "error",
     "traceback": [
      "\u001b[1;31m---------------------------------------------------------------------------\u001b[0m",
      "\u001b[1;31mNameError\u001b[0m                                 Traceback (most recent call last)",
      "\u001b[1;32m<ipython-input-10-794774d54c17>\u001b[0m in \u001b[0;36m<module>\u001b[1;34m\u001b[0m\n\u001b[1;32m----> 1\u001b[1;33m \u001b[0mcap\u001b[0m \u001b[1;33m=\u001b[0m \u001b[0mcv2\u001b[0m\u001b[1;33m.\u001b[0m\u001b[0mVideoCapture\u001b[0m\u001b[1;33m(\u001b[0m\u001b[0mInputVideo\u001b[0m\u001b[1;33m)\u001b[0m\u001b[1;33m\u001b[0m\u001b[1;33m\u001b[0m\u001b[0m\n\u001b[0m\u001b[0;32m      2\u001b[0m \u001b[0mnum_frames\u001b[0m \u001b[1;33m=\u001b[0m \u001b[0mint\u001b[0m\u001b[1;33m(\u001b[0m\u001b[0mcap\u001b[0m\u001b[1;33m.\u001b[0m\u001b[0mget\u001b[0m\u001b[1;33m(\u001b[0m\u001b[0mcv2\u001b[0m\u001b[1;33m.\u001b[0m\u001b[0mCAP_PROP_FRAME_COUNT\u001b[0m\u001b[1;33m)\u001b[0m\u001b[1;33m)\u001b[0m\u001b[1;33m\u001b[0m\u001b[1;33m\u001b[0m\u001b[0m\n",
      "\u001b[1;31mNameError\u001b[0m: name 'InputVideo' is not defined"
     ]
    }
   ],
   "source": [
    "cap = cv2.VideoCapture(InputVideo)\n",
    "num_frames = int(cap.get(cv2.CAP_PROP_FRAME_COUNT))\n"
   ]
  },
  {
   "cell_type": "code",
   "execution_count": null,
   "metadata": {},
   "outputs": [],
   "source": [
    "display_id = None\n",
    "\n",
    "cap = cv2.VideoCapture(InputVideo)\n",
    "for number in range(num_frames):\n",
    "    # Grab the next frame from the video feed, quit if none\n",
    "    ret, image = cap.read()\n",
    "    if not ret:\n",
    "        break\n",
    "\n",
    "    # Resize the input image to match the expected value\n",
    "    image = crop(image)\n",
    "    image_rgb = image[:,:,np.argsort([2,1,0])]\n",
    "\n",
    "    # Run the inference\n",
    "    res = exec_net_onnx.infer(inputs={input_layer_onnx : np.expand_dims(np.transpose(image_rgb/255.0, [2, 0, 1]), 0)}) \n",
    "\n",
    "    # Create a mask using the predicted classes\t\n",
    "    mask_frame = np.zeros((1024,1280,3), dtype=np.uint8)\n",
    "    #frame = res[output_layer_onnx][0,0]\n",
    "    #mask_frame[frame > 0] = [0,255,0] \n",
    "\n",
    "    frame = res[output_layer_onnx]\n",
    "    sliced = frame[0,1:,:,:]\n",
    "    mask_frame = (np.floor(np.transpose(sliced, [1,2,0])*255)).astype(np.uint8)\n",
    "\n",
    "    \n",
    "    # Write out frame to video \n",
    "    merged = cv2.addWeighted(image, 1, mask_frame, 0.5, 0)\n",
    "    \n",
    "    display_id = showarray(merged, None if display_id is None else display_id)\n",
    "\n",
    "\n",
    "cap.release()"
   ]
  },
  {
   "cell_type": "markdown",
   "metadata": {},
   "source": [
    "## Quantization\n",
    "\n",
    "Quantization is the process of reducing the model's precision. By performing this optimization, you can accelerate your model execution time.  \n",
    "\n",
    "[quantize.py](python/quantize.py) file contains quantization script and uses the [post training optimization toolkit (POT) API](https://docs.openvinotoolkit.org/latest/pot_compression_api_README.html) to reduce model's precision from FP32 to INT8. Quantization settings, such as the path to original model, path to dataset, quantization algorithm etc., which should be set via configs. ```DatasetsDataLoader``` creates quantization dataset from the sample video and loads one by one input images to POT, when quantization process starts. When quantization is finished, the INT8 model will be saved at ```'/models/ov/INT8'``` directory.\n",
    "\n",
    "Run the following cell to create the ```quantization_job.sh``` job file. This script runs quantization and benchmarking of the quantized and non-quantized models to compare their execution time."
   ]
  },
  {
   "cell_type": "code",
   "execution_count": 15,
   "metadata": {},
   "outputs": [],
   "source": [
    "from pathlib import Path"
   ]
  },
  {
   "cell_type": "code",
   "execution_count": 45,
   "metadata": {},
   "outputs": [
    {
     "data": {
      "text/plain": [
       "WindowsPath('C:/Users/havanden/code/openvino-notebooks/surgery_segmentation/models/ov/surgical_tools_parts.xml')"
      ]
     },
     "execution_count": 45,
     "metadata": {},
     "output_type": "execute_result"
    }
   ],
   "source": [
    "Path(work_directory + '/models/ov/surgical_tools_parts.xml')"
   ]
  },
  {
   "cell_type": "code",
   "execution_count": 49,
   "metadata": {},
   "outputs": [],
   "source": [
    "ie = IECore()\n",
    "net = ie.read_network('C:/Users/havanden/code/openvino-notebooks/surgery_segmentation/models/ov/surgical_tools_parts.xml', 'C:/Users/havanden/code/openvino-notebooks/surgery_segmentation/models/ov/surgical_tools_parts.bin')\n",
    "exec_net = ie.load_network(net, 'CPU')\n",
    "del net"
   ]
  },
  {
   "cell_type": "code",
   "execution_count": 53,
   "metadata": {},
   "outputs": [],
   "source": [
    "result = exec_net.infer(inputs={next(iter(exec_net.input_info.keys())): None})"
   ]
  },
  {
   "cell_type": "code",
   "execution_count": 16,
   "metadata": {},
   "outputs": [
    {
     "name": "stderr",
     "output_type": "stream",
     "text": [
      "14:50:12 accuracy_checker WARNING: c:\\Program Files (x86)\\intel\\openvino_2021\\deployment_tools\\model_optimizer\\mo\\utils\\ir_engine\\ir_engine.py:309: DeprecationWarning: `np.bool` is a deprecated alias for the builtin `bool`. To silence this warning, use `bool` by itself. Doing this will not modify any behavior and is safe. If you specifically wanted the numpy scalar type, use `np.bool_` here.\n",
      "Deprecated in NumPy 1.20; for more details and guidance: https://numpy.org/devdocs/release/1.20.0-notes.html#deprecations\n",
      "  'BOOL': (1, np.bool),\n",
      "\n",
      "14:50:12 accuracy_checker WARNING: c:\\Program Files (x86)\\intel\\openvino_2021\\deployment_tools\\model_optimizer\\mo\\front\\common\\partial_infer\\concat.py:49: DeprecationWarning: `np.bool` is a deprecated alias for the builtin `bool`. To silence this warning, use `bool` by itself. Doing this will not modify any behavior and is safe. If you specifically wanted the numpy scalar type, use `np.bool_` here.\n",
      "Deprecated in NumPy 1.20; for more details and guidance: https://numpy.org/devdocs/release/1.20.0-notes.html#deprecations\n",
      "  mask = np.zeros_like(shape, dtype=np.bool)\n",
      "\n",
      "14:50:19 accuracy_checker WARNING: c:\\Program Files (x86)\\intel\\openvino_2021\\deployment_tools\\model_optimizer\\mo\\back\\ie_ir_ver_2\\emitter.py:237: DeprecationWarning: This method will be removed in future versions.  Use 'list(elem)' or iteration over elem instead.\n",
      "  if len(element.attrib) == 0 and len(element.getchildren()) == 0:\n",
      "\n",
      "14:54:51 accuracy_checker WARNING: c:\\Program Files (x86)\\intel\\openvino_2021\\deployment_tools\\tools\\post_training_optimization_toolkit\\compression\\algorithms\\quantization\\fast_bias_correction\\algorithm.py:101: DeprecationWarning: `np.int` is a deprecated alias for the builtin `int`. To silence this warning, use `int` by itself. Doing this will not modify any behavior and is safe. When replacing `np.int`, you may wish to use e.g. `np.int64` or `np.int32` to specify the precision. If you wish to review your current use, check the release note link for additional information.\n",
      "Deprecated in NumPy 1.20; for more details and guidance: https://numpy.org/devdocs/release/1.20.0-notes.html#deprecations\n",
      "  bias_shape = np.ones(len(add_out_shape), dtype=np.int)\n",
      "\n"
     ]
    },
    {
     "data": {
      "text/plain": [
       "[{'model': 'C:\\\\Users\\\\havanden\\\\code\\\\openvino-notebooks\\\\surgery_segmentation/models/ov/INT8\\\\surgical_tools_parts.xml',\n",
       "  'weights': 'C:\\\\Users\\\\havanden\\\\code\\\\openvino-notebooks\\\\surgery_segmentation/models/ov/INT8\\\\surgical_tools_parts.bin'}]"
      ]
     },
     "execution_count": 16,
     "metadata": {},
     "output_type": "execute_result"
    }
   ],
   "source": [
    "\n",
    "from addict import Dict\n",
    "from compression.graph import load_model, save_model\n",
    "from compression.api.data_loader import DataLoader\n",
    "from compression.engines.ie_engine import IEEngine\n",
    "from compression.pipeline.initializer import create_pipeline\n",
    "\n",
    "work_directory=os.path.abspath(os.curdir)\n",
    "\n",
    "# Dictionary with the FP32 model info\n",
    "model_config = Dict({\n",
    "    'model_name': 'surgical_tools_parts',\n",
    "    'model': Path(work_directory + '/models/ov/surgical_tools_parts.xml'),\n",
    "    'weights': Path(work_directory + '/models/ov/surgical_tools_parts.bin'),\n",
    "})\n",
    "\n",
    "# Dictionary with the engine parameters\n",
    "engine_config = Dict({\n",
    "    'device': 'CPU',\n",
    "    'stat_requests_number': 4,\n",
    "    'eval_requests_number': 4\n",
    "})\n",
    "\n",
    "dataset_config = Dict({\n",
    "    'data_source': work_directory + '/data/short_source.mp4', # Path to input data for quantization\n",
    "})\n",
    "\n",
    "# Quantization algorithm settings\n",
    "algorithms = [\n",
    "    {\n",
    "        'name': 'DefaultQuantization', # Optimization algorithm name\n",
    "        'params': {\n",
    "            'target_device': 'CPU',\n",
    "            'preset': 'performance', # Preset [performance (default), accuracy] which controls the quantization mode \n",
    "                                     # (symmetric and asymmetric respectively)\n",
    "            'stat_subset_size': 300  # Size of subset to calculate activations statistics that can be used\n",
    "                                     # for quantization parameters calculation.\n",
    "        }\n",
    "    }\n",
    "]\n",
    "\n",
    "# Load the model.\n",
    "model = load_model(model_config)\n",
    "\n",
    "# Initialize the data loader.\n",
    "data_loader = DatasetsDataLoader(dataset_config)\n",
    "\n",
    "# Initialize the engine for metric calculation and statistics collection.\n",
    "engine = IEEngine(engine_config, data_loader, None)\n",
    "\n",
    "# Create a pipeline of compression algorithms.\n",
    "pipeline = create_pipeline(algorithms, engine)\n",
    "\n",
    "# Execute the pipeline.\n",
    "compressed_model = pipeline.run(model)\n",
    "\n",
    "# Save the compressed model.\n",
    "save_model(compressed_model, work_directory + '/models/ov/INT8')"
   ]
  },
  {
   "cell_type": "code",
   "execution_count": 28,
   "metadata": {},
   "outputs": [],
   "source": [
    "benchmark_app = os.path.join(os.path.dirname(os.path.dirname(mo_path)), 'tools', 'benchmark_tool', 'benchmark_app.py')\n",
    "benchmark_app_str = rf'\"{benchmark_app}\"'\n"
   ]
  },
  {
   "cell_type": "code",
   "execution_count": 30,
   "metadata": {},
   "outputs": [
    {
     "name": "stdout",
     "output_type": "stream",
     "text": [
      "Collecting progress\n",
      "  Using cached progress-1.5-py3-none-any.whl\n",
      "Installing collected packages: progress\n",
      "Successfully installed progress-1.5\n"
     ]
    }
   ],
   "source": [
    "!pip install progress"
   ]
  },
  {
   "cell_type": "code",
   "execution_count": 35,
   "metadata": {},
   "outputs": [
    {
     "data": {
      "text/plain": [
       "'C:\\\\Users\\\\havanden\\\\code\\\\openvino-notebooks\\\\surgery_segmentationmodels\\\\ov\\\\FP16\\\\surgical_tools_parts.xml'"
      ]
     },
     "execution_count": 35,
     "metadata": {},
     "output_type": "execute_result"
    }
   ],
   "source": [
    "str(Path(work_directory + 'models/ov/FP16/surgical_tools_parts.xml'))"
   ]
  },
  {
   "cell_type": "code",
   "execution_count": 40,
   "metadata": {},
   "outputs": [
    {
     "name": "stdout",
     "output_type": "stream",
     "text": [
      "[Step 1/11] Parsing and validating input arguments\n",
      "[ WARNING ]  -nstreams default value is determined automatically for a device. Although the automatic selection usually provides a reasonable performance, but it still may be non-optimal for some cases, for more information look at README. \n",
      "[Step 2/11] Loading Inference Engine\n",
      "[ INFO ] InferenceEngine:\n",
      "         API version............. 2.1.2021.2.0-1877-176bdf51370-releases/2021/2\n"
     ]
    },
    {
     "name": "stderr",
     "output_type": "stream",
     "text": [
      "c:\\Program Files (x86)\\intel\\openvino_2021\\python\\python3.7\\openvino\\tools\\benchmark\\main.py:29: DeprecationWarning: The 'warn' method is deprecated, use 'warning' instead\n",
      "  logger.warn(\" -nstreams default value is determined automatically for a device. \"\n",
      "c:\\Program Files (x86)\\intel\\openvino_2021\\python\\python3.7\\openvino\\tools\\benchmark\\utils\\inputs_filling.py:71: DeprecationWarning: The 'warn' method is deprecated, use 'warning' instead\n",
      "  logger.warn(\"No input files were given: all inputs will be filled with random values!\")\n"
     ]
    },
    {
     "name": "stdout",
     "output_type": "stream",
     "text": [
      "[ INFO ] Device info\n",
      "         CPU\n",
      "         MKLDNNPlugin............ version 2.1\n",
      "         Build................... 2021.2.0-1877-176bdf51370-releases/2021/2\n",
      "\n",
      "[Step 3/11] Setting device configuration\n",
      "[ WARNING ] -nstreams default value is determined automatically for CPU device. Although the automatic selection usually provides a reasonable performance,but it still may be non-optimal for some cases, for more information look at README.\n",
      "[Step 4/11] Reading network files\n",
      "[ INFO ] Read network took 209.38 ms\n",
      "[Step 5/11] Resizing network to match image sizes and given batch\n",
      "[ INFO ] Network batch size: 1\n",
      "[Step 6/11] Configuring input of the model\n",
      "[Step 7/11] Loading the model to the device\n",
      "[ INFO ] Load network took 740.24 ms\n",
      "[Step 8/11] Setting optimal runtime parameters\n",
      "[Step 9/11] Creating infer requests and filling input blobs with images\n",
      "[ INFO ] Network input 'input.1' precision U8, dimensions (NCHW): 1 3 1024 1280\n",
      "[ WARNING ] No input files were given: all inputs will be filled with random values!\n",
      "[ INFO ] Infer Request 0 filling\n",
      "[ INFO ] Fill input 'input.1' with random values (image is expected)\n",
      "[ INFO ] Infer Request 1 filling\n",
      "[ INFO ] Fill input 'input.1' with random values (image is expected)\n",
      "[ INFO ] Infer Request 2 filling\n",
      "[ INFO ] Fill input 'input.1' with random values (image is expected)\n",
      "[ INFO ] Infer Request 3 filling\n",
      "[ INFO ] Fill input 'input.1' with random values (image is expected)\n",
      "[Step 10/11] Measuring performance (Start inference asyncronously, 4 inference requests using 4 streams for CPU, limits: 60000 ms duration)\n",
      "[ INFO ] First inference took 7781.60 ms\n",
      "[Step 11/11] Dumping statistics report\n",
      "Count:      20 iterations\n",
      "Duration:   82772.05 ms\n",
      "Latency:    15981.43 ms\n",
      "Throughput: 0.24 FPS\n"
     ]
    }
   ],
   "source": [
    "# # Run the benchmark_app for FP32 model\n",
    "model_path = str(Path(work_directory + '/models/ov/surgical_tools_parts.xml'))\n",
    "! $sys.executable $benchmark_app_str -m $model_path"
   ]
  },
  {
   "cell_type": "markdown",
   "metadata": {},
   "source": [
    "Run the following cell to start quantization and benchmarking of the quantized model on Xeon Gold 6258R."
   ]
  },
  {
   "cell_type": "code",
   "execution_count": 42,
   "metadata": {},
   "outputs": [
    {
     "name": "stdout",
     "output_type": "stream",
     "text": [
      "[Step 1/11] Parsing and validating input arguments"
     ]
    },
    {
     "name": "stderr",
     "output_type": "stream",
     "text": [
      "c:\\Program Files (x86)\\intel\\openvino_2021\\python\\python3.7\\openvino\\tools\\benchmark\\main.py:29: DeprecationWarning: The 'warn' method is deprecated, use 'warning' instead\n",
      "  logger.warn(\" -nstreams default value is determined automatically for a device. \"\n",
      "c:\\Program Files (x86)\\intel\\openvino_2021\\python\\python3.7\\openvino\\tools\\benchmark\\utils\\inputs_filling.py:71: DeprecationWarning: The 'warn' method is deprecated, use 'warning' instead\n",
      "  logger.warn(\"No input files were given: all inputs will be filled with random values!\")\n"
     ]
    },
    {
     "name": "stdout",
     "output_type": "stream",
     "text": [
      "\n",
      "[ WARNING ]  -nstreams default value is determined automatically for a device. Although the automatic selection usually provides a reasonable performance, but it still may be non-optimal for some cases, for more information look at README. \n",
      "[Step 2/11] Loading Inference Engine\n",
      "[ INFO ] InferenceEngine:\n",
      "         API version............. 2.1.2021.2.0-1877-176bdf51370-releases/2021/2\n",
      "[ INFO ] Device info\n",
      "         CPU\n",
      "         MKLDNNPlugin............ version 2.1\n",
      "         Build................... 2021.2.0-1877-176bdf51370-releases/2021/2\n",
      "\n",
      "[Step 3/11] Setting device configuration\n",
      "[ WARNING ] -nstreams default value is determined automatically for CPU device. Although the automatic selection usually provides a reasonable performance,but it still may be non-optimal for some cases, for more information look at README.\n",
      "[Step 4/11] Reading network files\n",
      "[ INFO ] Read network took 261.00 ms\n",
      "[Step 5/11] Resizing network to match image sizes and given batch\n",
      "[ INFO ] Network batch size: 1\n",
      "[Step 6/11] Configuring input of the model\n",
      "[Step 7/11] Loading the model to the device\n",
      "[ INFO ] Load network took 1679.47 ms\n",
      "[Step 8/11] Setting optimal runtime parameters\n",
      "[Step 9/11] Creating infer requests and filling input blobs with images\n",
      "[ INFO ] Network input 'input.1' precision U8, dimensions (NCHW): 1 3 1024 1280\n",
      "[ WARNING ] No input files were given: all inputs will be filled with random values!\n",
      "[ INFO ] Infer Request 0 filling\n",
      "[ INFO ] Fill input 'input.1' with random values (image is expected)\n",
      "[ INFO ] Infer Request 1 filling\n",
      "[ INFO ] Fill input 'input.1' with random values (image is expected)\n",
      "[ INFO ] Infer Request 2 filling\n",
      "[ INFO ] Fill input 'input.1' with random values (image is expected)\n",
      "[ INFO ] Infer Request 3 filling\n",
      "[ INFO ] Fill input 'input.1' with random values (image is expected)\n",
      "[Step 10/11] Measuring performance (Start inference asyncronously, 4 inference requests using 4 streams for CPU, limits: 60000 ms duration)\n",
      "[ INFO ] First inference took 3086.62 ms\n",
      "[Step 11/11] Dumping statistics report\n",
      "Count:      44 iterations\n",
      "Duration:   70749.35 ms\n",
      "Latency:    6374.35 ms\n",
      "Throughput: 0.62 FPS\n"
     ]
    }
   ],
   "source": [
    "model_path = str(Path(work_directory + '/models/ov/INT8/surgical_tools_parts.xml'))\n",
    "! $sys.executable $benchmark_app_str -m $model_path"
   ]
  },
  {
   "cell_type": "markdown",
   "metadata": {},
   "source": [
    "In this demo only 20 images were used for the model's quantization from FP32 to INT8. \n",
    "To achieve better accuracy, more data should be processed in quantization process to collect more robust statistics."
   ]
  },
  {
   "cell_type": "markdown",
   "metadata": {},
   "source": [
    "## Next steps\n",
    "- [More Jupyter* Notebook Samples](https://devcloud.intel.com/edge/advanced/sample_applications/) - additional sample applications \n",
    "- [Jupyter* Notebook Tutorials](https://devcloud.intel.com/edge/get_started/tutorials) - sample application Jupyter* Notebook tutorials\n",
    "- [Intel® Distribution of OpenVINO™ toolkit Main Page](https://software.intel.com/openvino-toolkit) - learn more about the tools and use of the Intel® Distribution of OpenVINO™ toolkit for implementing inference on the edge\n"
   ]
  },
  {
   "cell_type": "markdown",
   "metadata": {},
   "source": [
    "## About this notebook\n",
    "\n",
    "For technical support, please see the [Intel® DevCloud Forums](https://software.intel.com/en-us/forums/intel-devcloud-for-edge)"
   ]
  },
  {
   "cell_type": "markdown",
   "metadata": {},
   "source": [
    "## Citation\n",
    "    @inproceedings{shvets2018automatic,\n",
    "    title={Automatic Instrument Segmentation in Robot-Assisted Surgery using Deep Learning},\n",
    "    author={Shvets, Alexey A and Rakhlin, Alexander and Kalinin, Alexandr A and Iglovikov, Vladimir I},\n",
    "    booktitle={2018 17th IEEE International Conference on Machine Learning and Applications (ICMLA)},\n",
    "    pages={624--628},\n",
    "    year={2018}\n",
    "    }\n",
    "<br><div class=note><i><b>Note: </b>Citation appears exactly as it appears on source website</i></div>"
   ]
  },
  {
   "cell_type": "markdown",
   "metadata": {},
   "source": [
    "<p style=background-color:#0071C5;color:white;padding:0.5em;display:table-cell;width:100pc;vertical-align:middle>\n",
    "<img style=float:right src=\"https://devcloud.intel.com/edge/static/images/svg/IDZ_logo.svg\" alt=\"Intel DevCloud logo\" width=\"150px\"/>\n",
    "<a style=color:white>Intel® DevCloud for the Edge</a><br>   \n",
    "<a style=color:white href=\"#top\">Top of Page</a> | \n",
    "<a style=color:white href=\"https://devcloud.intel.com/edge/static/docs/terms/Intel-DevCloud-for-the-Edge-Usage-Agreement.pdf\">Usage Agreement (Intel)</a> | \n",
    "<a style=color:white href=\"https://devcloud.intel.com/edge/static/docs/terms/Colfax_Cloud_Service_Terms_v1.3.pdf\">Service Terms (Colfax)</a>\n",
    "</p>"
   ]
  }
 ],
 "metadata": {
  "kernelspec": {
   "display_name": "no_openvino_env",
   "language": "python",
   "name": "no_openvino_env"
  },
  "language_info": {
   "codemirror_mode": {
    "name": "ipython",
    "version": 3
   },
   "file_extension": ".py",
   "mimetype": "text/x-python",
   "name": "python",
   "nbconvert_exporter": "python",
   "pygments_lexer": "ipython3",
   "version": "3.7.9"
  },
  "nbTranslate": {
   "displayLangs": [
    "*"
   ],
   "hotkey": "alt-t",
   "langInMainMenu": true,
   "sourceLang": "en",
   "targetLang": "fr",
   "useGoogleTranslate": true
  },
  "toc": {
   "base_numbering": 1,
   "nav_menu": {},
   "number_sections": true,
   "sideBar": true,
   "skip_h1_title": true,
   "title_cell": "Table of Contents",
   "title_sidebar": "Contents",
   "toc_cell": false,
   "toc_position": {
    "height": "685.455px",
    "left": "232px",
    "top": "601.284px",
    "width": "251.392px"
   },
   "toc_section_display": true,
   "toc_window_display": true
  }
 },
 "nbformat": 4,
 "nbformat_minor": 4
}
